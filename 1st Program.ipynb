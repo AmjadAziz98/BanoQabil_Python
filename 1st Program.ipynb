{
 "cells": [
  {
   "cell_type": "code",
   "execution_count": 3,
   "id": "ba2e66fb-f932-43fc-beb5-6a45de236a04",
   "metadata": {},
   "outputs": [
    {
     "name": "stdout",
     "output_type": "stream",
     "text": [
      "Your Fullname is:  Amjad     Aziz\n"
     ]
    }
   ],
   "source": [
    "a = \"Amjad\"\n",
    "b = \"Aziz\"\n",
    "# c = int(input(\"Enter 3rd Number\"))\n",
    "\n",
    "# print(\"Your Result is: \", a**2 + b**2 + 2*a*b )\n",
    "\n",
    "# print(\"Your Fullname is: \",a ,\"   \",b)"
   ]
  },
  {
   "cell_type": "code",
   "execution_count": null,
   "id": "7c8dfcd6-51e3-4118-94b0-ce2d2d9b1458",
   "metadata": {},
   "outputs": [],
   "source": []
  },
  {
   "cell_type": "code",
   "execution_count": 6,
   "id": "6d262de5-f550-4cc2-8eb4-686385c0df97",
   "metadata": {},
   "outputs": [
    {
     "name": "stdin",
     "output_type": "stream",
     "text": [
      "Which number of table do you want:  16\n",
      "How many times of table do you want:  6\n"
     ]
    },
    {
     "name": "stdout",
     "output_type": "stream",
     "text": [
      "5 x 1 = 5\n",
      "5 x 2 = 10\n",
      "5 x 3 = 15\n",
      "5 x 4 = 20\n",
      "5 x 5 = 25\n",
      "5 x 6 = 30\n"
     ]
    }
   ],
   "source": [
    "tab = int(input(\"Which number of table do you want: \" ))\n",
    "num = int(input(\"How many times of table do you want: \" ))\n",
    "\n",
    "\n",
    "\"2 x 1 = 2\"\n",
    "for i in range(num):\n",
    "    print(tab, \"x\",i+1, \"=\", tab * (i + 1) )"
   ]
  },
  {
   "cell_type": "code",
   "execution_count": 20,
   "id": "c89c259b-ffbb-4e51-bcff-627e6dd68043",
   "metadata": {},
   "outputs": [
    {
     "name": "stdin",
     "output_type": "stream",
     "text": [
      "Which number of table do you want:  6\n",
      "How many times of table do you want:  15\n"
     ]
    },
    {
     "name": "stdout",
     "output_type": "stream",
     "text": [
      "6 x 1 = 6\n",
      "6 x 3 = 18\n",
      "6 x 5 = 30\n",
      "6 x 7 = 42\n",
      "6 x 9 = 54\n",
      "6 x 11 = 66\n",
      "6 x 13 = 78\n",
      "6 x 15 = 90\n",
      "Your table is finished\n"
     ]
    }
   ],
   "source": [
    "tab = int(input(\"Which number of table do you want: \" ))\n",
    "num = int(input(\"How many times of table do you want: \" ))\n",
    "\n",
    "for i in range(1, num + 1, 2):\n",
    "    print(f\"{tab} x {i} = {tab * i}\")\n",
    "else:\n",
    "    print(\"Your table is finished\")"
   ]
  },
  {
   "cell_type": "code",
   "execution_count": 6,
   "id": "49d1cae3-8740-43c9-9cb5-300e3dd1ec1a",
   "metadata": {},
   "outputs": [
    {
     "name": "stdin",
     "output_type": "stream",
     "text": [
      "Please enter your name:  Amb\n",
      "Please enter your English marks:  70\n",
      "Please enter your Maths Marks:  45\n",
      "Please enter your Urdu Marks:  89\n"
     ]
    },
    {
     "name": "stdout",
     "output_type": "stream",
     "text": [
      "\n",
      "\n",
      "Amb your obtained marks are 204, and your percentage is 68.0, your garde is Pass\n"
     ]
    }
   ],
   "source": [
    "name = input(\"Please enter your name: \")\n",
    "\n",
    "eng = int(input(\"Please enter your English marks: \"))\n",
    "math = int(input(\"Please enter your Maths Marks: \"))\n",
    "urdu = int(input(\"Please enter your Urdu Marks: \"))\n",
    "\n",
    "obtain = (eng + math + urdu)\n",
    "\n",
    "percent = obtain /300 * 100\n",
    "\n",
    "# grade = \"A1\"\n",
    "if percent > 50 and percent < 100:\n",
    "    grade = \"A1\"\n",
    "\n",
    "elif  percent > 40 and percent < 50:\n",
    "    grade = \"Pass\"\n",
    "\n",
    "else:\n",
    "    grade = \"Fail\"\n",
    "\n",
    "\n",
    "\n",
    "\n",
    "print(f\"\\n\\n{name} your obtained marks are {obtain}, and your percentage is {percent}, your garde is {grade}\")\n",
    "\n"
   ]
  },
  {
   "cell_type": "code",
   "execution_count": 14,
   "id": "98eec46c-b7ce-4fe7-b3b1-f59ef5a1b40e",
   "metadata": {},
   "outputs": [
    {
     "name": "stdout",
     "output_type": "stream",
     "text": [
      "3\n",
      "5\n",
      "7\n",
      "9\n"
     ]
    }
   ],
   "source": [
    "a = 3\n",
    "\n",
    "while a <= 10:\n",
    "    print(a)\n",
    "    a += 2"
   ]
  },
  {
   "cell_type": "code",
   "execution_count": 16,
   "id": "3abef77f-86cd-4185-b372-4c7c5b6eaa3c",
   "metadata": {},
   "outputs": [
    {
     "name": "stdout",
     "output_type": "stream",
     "text": [
      "1\n"
     ]
    },
    {
     "name": "stdin",
     "output_type": "stream",
     "text": [
      "you wanna run:  a\n"
     ]
    },
    {
     "name": "stdout",
     "output_type": "stream",
     "text": [
      "1\n"
     ]
    },
    {
     "name": "stdin",
     "output_type": "stream",
     "text": [
      "you wanna run:  a\n"
     ]
    },
    {
     "name": "stdout",
     "output_type": "stream",
     "text": [
      "1\n"
     ]
    },
    {
     "name": "stdin",
     "output_type": "stream",
     "text": [
      "you wanna run:  a\n"
     ]
    },
    {
     "name": "stdout",
     "output_type": "stream",
     "text": [
      "1\n"
     ]
    },
    {
     "name": "stdin",
     "output_type": "stream",
     "text": [
      "you wanna run:  a\n"
     ]
    },
    {
     "name": "stdout",
     "output_type": "stream",
     "text": [
      "1\n"
     ]
    },
    {
     "name": "stdin",
     "output_type": "stream",
     "text": [
      "you wanna run:  q\n"
     ]
    }
   ],
   "source": [
    "a = \"\"\n",
    "\n",
    "while a != \"q\":\n",
    "    print(1)\n",
    "    a = str(input(\"you wanna run: \"))"
   ]
  },
  {
   "cell_type": "code",
   "execution_count": 27,
   "id": "1f191315-4a1e-449c-b08e-078ccc7f1e0e",
   "metadata": {},
   "outputs": [
    {
     "name": "stdin",
     "output_type": "stream",
     "text": [
      "Give me a number:  56\n"
     ]
    },
    {
     "name": "stdout",
     "output_type": "stream",
     "text": [
      "You entered EVEN number\n"
     ]
    }
   ],
   "source": [
    "num  =int(input(\"Give me a number: \"))\n",
    "\n",
    "if (num % 2) == 0:\n",
    "    print(\"You entered EVEN number\")\n",
    "\n",
    "elif (num % 2) != 0:\n",
    "    print(\"You entered ODD number\")\n",
    "    \n",
    "else:\n",
    "    print(\"You entered Wrong number\")\n",
    "    "
   ]
  },
  {
   "cell_type": "code",
   "execution_count": 18,
   "id": "bae7600b-d984-444d-a5ca-879ab5c06688",
   "metadata": {},
   "outputs": [
    {
     "data": {
      "text/plain": [
       "1"
      ]
     },
     "execution_count": 18,
     "metadata": {},
     "output_type": "execute_result"
    }
   ],
   "source": [
    "5 % 2"
   ]
  },
  {
   "cell_type": "code",
   "execution_count": 5,
   "id": "c79a77cf-2b29-43ed-9bb8-decc8413b39b",
   "metadata": {},
   "outputs": [
    {
     "name": "stdin",
     "output_type": "stream",
     "text": [
      "Give me a number:  89\n"
     ]
    },
    {
     "name": "stdout",
     "output_type": "stream",
     "text": [
      "You entered ODD number\n"
     ]
    },
    {
     "name": "stdin",
     "output_type": "stream",
     "text": [
      "\n",
      "\n",
      "\tPress q for stopping the program or other key to continue:  ty\n",
      "Give me a number:  8\n"
     ]
    },
    {
     "name": "stdout",
     "output_type": "stream",
     "text": [
      "You entered EVEN number\n"
     ]
    },
    {
     "name": "stdin",
     "output_type": "stream",
     "text": [
      "\n",
      "\n",
      "\tPress q for stopping the program or other key to continue:  q\n"
     ]
    }
   ],
   "source": [
    "a = \"\"\n",
    "\n",
    "while a.lower() != \"q\":\n",
    "    num  =int(input(\"Give me a number: \"))\n",
    "\n",
    "    if (num % 2) == 0:\n",
    "        print(\"You entered EVEN number\")\n",
    "    \n",
    "    elif (num % 2) != 0:\n",
    "        print(\"You entered ODD number\")\n",
    "        \n",
    "    else:\n",
    "        print(\"You entered Wrong number\")\n",
    "       \n",
    "    a = str(input(\"\\n\\n\\tPress q for stopping the program or other key to continue: \"))"
   ]
  },
  {
   "cell_type": "code",
   "execution_count": 6,
   "id": "fee9aa15-2d90-4ceb-8eb3-8dfb6504924b",
   "metadata": {},
   "outputs": [
    {
     "name": "stdout",
     "output_type": "stream",
     "text": [
      "120\n"
     ]
    }
   ],
   "source": [
    "fact = 5\n",
    "result = 1\n",
    "while fact > 0:\n",
    "    result *= fact\n",
    "\n",
    "    fact -= 1\n",
    "\n",
    "print(result)\n"
   ]
  },
  {
   "cell_type": "code",
   "execution_count": 4,
   "id": "03770ed7-b9da-4866-a96c-1e210c1d83b0",
   "metadata": {},
   "outputs": [
    {
     "name": "stdout",
     "output_type": "stream",
     "text": [
      "1\n",
      "2\n",
      "3\n",
      "4\n",
      "5\n",
      "abc\n"
     ]
    }
   ],
   "source": [
    "a = 1\n",
    "\n",
    "while a <= 5:\n",
    "    print(a)\n",
    "\n",
    "    a += 1\n",
    "\n",
    "print(\"abc\")"
   ]
  },
  {
   "cell_type": "code",
   "execution_count": 21,
   "id": "e30bc9a9-e8dd-4b12-adbf-509c6c4a321b",
   "metadata": {},
   "outputs": [
    {
     "name": "stdin",
     "output_type": "stream",
     "text": [
      "give me table number:  6\n",
      "Till what number:  12\n"
     ]
    },
    {
     "name": "stdout",
     "output_type": "stream",
     "text": [
      "6 x 1 = 6\n",
      "6 x 2 = 12\n",
      "6 x 3 = 18\n",
      "6 x 4 = 24\n",
      "6 x 5 = 30\n",
      "6 x 6 = 36\n",
      "6 x 7 = 42\n",
      "6 x 8 = 48\n",
      "6 x 9 = 54\n",
      "6 x 10 = 60\n",
      "6 x 11 = 66\n",
      "6 x 12 = 72\n"
     ]
    },
    {
     "name": "stdin",
     "output_type": "stream",
     "text": [
      "Pess n to stop otherwise it'll run:  n\n"
     ]
    }
   ],
   "source": [
    "b = \"\"\n",
    "\n",
    "while b.lower() != \"n\" :\n",
    "    tab = int(input(\"give me table number: \"))\n",
    "    a = 1\n",
    "    num = int(input(\"Till what number: \"))\n",
    "    \n",
    "    while a <=num:\n",
    "        print(f\"{tab} x {a} = {tab * a}\")\n",
    "        a += 1\n",
    "    b = str(input(\"Pess n to stop otherwise it'll run: \"))"
   ]
  },
  {
   "cell_type": "code",
   "execution_count": 11,
   "id": "3143740e-46c3-4d46-9a9d-5c407cbff80a",
   "metadata": {},
   "outputs": [
    {
     "name": "stdout",
     "output_type": "stream",
     "text": [
      "3 x 1 = 3\n",
      "3 x 2 = 6\n",
      "3 x 3 = 9\n",
      "3 x 4 = 12\n",
      "3 x 5 = 15\n",
      "3 x 6 = 18\n",
      "3 x 7 = 21\n",
      "3 x 8 = 24\n",
      "3 x 9 = 27\n",
      "3 x 10 = 30\n"
     ]
    }
   ],
   "source": [
    "tab = 3\n",
    "a = 1\n",
    "\n",
    "while a <=10:\n",
    "    print(f\"{tab} x {a} = {tab * a}\")\n",
    "    a += 1"
   ]
  },
  {
   "cell_type": "code",
   "execution_count": 22,
   "id": "9a6b3662-0bb4-4e13-ab81-f02a610a2355",
   "metadata": {},
   "outputs": [
    {
     "name": "stdout",
     "output_type": "stream",
     "text": [
      "963\n"
     ]
    }
   ],
   "source": [
    "a = str(\"63\")\n",
    "b = str(\"9\")\n",
    "d = float(2.9)\n",
    "e = float(3.1)\n",
    "f = d + e\n",
    "\n",
    "x = int(a)\n",
    "y = int(b)\n",
    "\n",
    "\n",
    "print(b + a)"
   ]
  },
  {
   "cell_type": "code",
   "execution_count": 3,
   "id": "27535ca1-55a1-4f25-957e-519ae2a596cd",
   "metadata": {},
   "outputs": [
    {
     "name": "stdout",
     "output_type": "stream",
     "text": [
      "id e A\n"
     ]
    }
   ],
   "source": [
    "a = 'Quaid e Azam said \"Never give up.\"'\n",
    "\n",
    "#print(\"This is Arshad's pen.\")\n",
    "\n",
    "j = '''Learn to code with the world's largest web developer site.\n",
    "Not sure where to begin? \n",
    "HTML The language for building web pages Learn HTML Video Tutorial'''\n",
    "\n",
    "#print(\"The Quaid e Azam's quote is \" + \"Never give up.\")\n",
    "\n",
    "print(a[3:9])"
   ]
  },
  {
   "cell_type": "code",
   "execution_count": 13,
   "id": "28bbe70d-d853-4827-bee7-38e00f981648",
   "metadata": {},
   "outputs": [
    {
     "name": "stdout",
     "output_type": "stream",
     "text": [
      "e\n"
     ]
    }
   ],
   "source": [
    "print(j[1])"
   ]
  },
  {
   "cell_type": "code",
   "execution_count": 16,
   "id": "f1ba2ff4-8ea2-4f0e-94be-a7fc84244aff",
   "metadata": {},
   "outputs": [
    {
     "name": "stdout",
     "output_type": "stream",
     "text": [
      "My name is Obaid\n",
      "I am student of Business\n",
      "I live in Lahore\n"
     ]
    }
   ],
   "source": [
    "def BioData(a, b, c):\n",
    "    print(f\"My name is {a}\")\n",
    "    print(f\"I am student of {b}\")\n",
    "    print(f\"I live in {c}\")\n",
    "\n",
    "\n",
    "BioData(\"Khalil\", \"Islamabad\", \"Business\")"
   ]
  },
  {
   "cell_type": "code",
   "execution_count": 19,
   "id": "40b4ab22-1fb3-497f-ac59-f9bfd380a101",
   "metadata": {},
   "outputs": [
    {
     "name": "stdout",
     "output_type": "stream",
     "text": [
      "\n",
      "**********This is Line\n",
      "\n",
      "My name is Amjad\n",
      "I am student of CIT\n",
      "I live in Karachi\n",
      "I am Pakistani\n",
      "\n",
      "**********This is Line\n",
      "\n",
      "My name is Amjad\n",
      "I am student of CIT\n",
      "I live in Karachi\n",
      "I am Pakistani\n"
     ]
    }
   ],
   "source": [
    "def BioData(a, b, c):\n",
    "    print(f\"My name is {a}\")\n",
    "    print(f\"I am student of {b}\")\n",
    "    print(f\"I live in {c}\")\n",
    "\n",
    "a = \"Amjad\"\n",
    "b = \"Aziz\"\n",
    "# c = int(input(\"Enter 3rd Number\"))\n",
    "\n",
    "# print(\"Your Result is: \", a**2 + b**2 + 2*a*b )\n",
    "print(\"\\n**********This is Line\\n\")\n",
    "BioData()\n",
    "print(\"\\n**********This is Line\\n\")\n",
    "# print(\"Your Fullname is: \",a ,\"   \",b)\n",
    "\n",
    "BioData()"
   ]
  },
  {
   "cell_type": "code",
   "execution_count": 2,
   "id": "54d80359-3faf-4a0d-a311-da563655024c",
   "metadata": {},
   "outputs": [
    {
     "name": "stdout",
     "output_type": "stream",
     "text": [
      "this is function\n"
     ]
    }
   ],
   "source": [
    "def abc():\n",
    "    print(\"this is function\")\n",
    "\n",
    "    #abc()\n",
    "\n",
    "abc()"
   ]
  },
  {
   "cell_type": "code",
   "execution_count": 15,
   "id": "02d4af68-35a7-4dc7-aa27-234b469a1a19",
   "metadata": {},
   "outputs": [
    {
     "name": "stdin",
     "output_type": "stream",
     "text": [
      "Give me Obtain 400\n"
     ]
    },
    {
     "data": {
      "text/plain": [
       "80.0"
      ]
     },
     "execution_count": 15,
     "metadata": {},
     "output_type": "execute_result"
    }
   ],
   "source": [
    "def percentage(a):\n",
    "    per =  a / 500 *100\n",
    "\n",
    "    return per\n",
    "\n",
    "obt = int(input(\"Give me Obtain\"))\n",
    "\n",
    "percentage(obt)"
   ]
  },
  {
   "cell_type": "code",
   "execution_count": 1,
   "id": "a9dfa1d9-8f19-40a3-8405-68b299976f7e",
   "metadata": {},
   "outputs": [
    {
     "name": "stdout",
     "output_type": "stream",
     "text": [
      "When plus 12\n",
      "When Divide 0.5\n"
     ]
    }
   ],
   "source": [
    "def cal(a, b):\n",
    "    print(\"When plus\", a + b)\n",
    "    print(\"When Divide\", a / b)\n",
    "\n",
    "\n",
    "cal(4, 8)"
   ]
  },
  {
   "cell_type": "code",
   "execution_count": 1,
   "id": "a895d53f-3fdd-4d54-b215-9ee0d237d9d9",
   "metadata": {},
   "outputs": [
    {
     "name": "stdout",
     "output_type": "stream",
     "text": [
      "['Abc', 'xyz', '123', 'Abc', 456, 'PQR']\n",
      "['Abc', 'xyz', '123', 'Abc', 456, 'PQR', 'DEF', 'GHI']\n"
     ]
    }
   ],
   "source": [
    "names = [\"Abc\", \"xyz\", \"123\", \"Abc\", 456, \"PQR\"]\n",
    "\n",
    "print(names)\n",
    "a = [\"DEF\", \"GHI\"]\n",
    "names[6:7] = a\n",
    "\n",
    "\n",
    "print(names)"
   ]
  },
  {
   "cell_type": "code",
   "execution_count": 36,
   "id": "97b2f653-9bf5-4a2d-96d6-75e9f4de4dcb",
   "metadata": {},
   "outputs": [
    {
     "name": "stdin",
     "output_type": "stream",
     "text": [
      "Give me a value:  Arshad\n"
     ]
    },
    {
     "name": "stdout",
     "output_type": "stream",
     "text": [
      "['Abc', 'xyz', '123', 'Abc', 456, 'PQR', 'Arshad', 'ueioer', 'new', 'p[ti']\n"
     ]
    }
   ],
   "source": [
    "y = input(\"Give me a value: \")\n",
    "names.insert(6, y)\n",
    "\n",
    "print(names)"
   ]
  },
  {
   "cell_type": "code",
   "execution_count": 38,
   "id": "d7e8d148-1084-4993-8bdc-ed3b8bf83780",
   "metadata": {},
   "outputs": [
    {
     "name": "stdout",
     "output_type": "stream",
     "text": [
      "['Abc', 'xyz', '123', 'Abc', 456, 'PQR', 'Arshad', 'ueioer', 'new', 'p[ti']\n",
      "['Abc', 'xyz', '123', 'Abc', 456, 'PQR', 'Arshad', 'new', 'p[ti']\n"
     ]
    }
   ],
   "source": [
    "print(names)\n",
    "\n",
    "names.pop(-3)\n",
    "\n",
    "print(names)"
   ]
  },
  {
   "cell_type": "code",
   "execution_count": 42,
   "id": "bfee2f22-c431-4e29-85a6-f19e0cc28e27",
   "metadata": {},
   "outputs": [
    {
     "ename": "TypeError",
     "evalue": "list.remove() takes exactly one argument (2 given)",
     "output_type": "error",
     "traceback": [
      "\u001b[1;31m---------------------------------------------------------------------------\u001b[0m",
      "\u001b[1;31mTypeError\u001b[0m                                 Traceback (most recent call last)",
      "Cell \u001b[1;32mIn[42], line 1\u001b[0m\n\u001b[1;32m----> 1\u001b[0m names\u001b[38;5;241m.\u001b[39mremove(\u001b[38;5;124m'\u001b[39m\u001b[38;5;124mxyz\u001b[39m\u001b[38;5;124m'\u001b[39m, \u001b[38;5;124m\"\u001b[39m\u001b[38;5;124m123\u001b[39m\u001b[38;5;124m\"\u001b[39m)\n\u001b[0;32m      3\u001b[0m \u001b[38;5;28mprint\u001b[39m(names)\n",
      "\u001b[1;31mTypeError\u001b[0m: list.remove() takes exactly one argument (2 given)"
     ]
    }
   ],
   "source": [
    "names.remove('xyz', \"123\")\n",
    "\n",
    "print(names)"
   ]
  },
  {
   "cell_type": "code",
   "execution_count": 41,
   "id": "0637687f-10a4-4db0-94cc-466faa81a718",
   "metadata": {},
   "outputs": [
    {
     "name": "stdout",
     "output_type": "stream",
     "text": [
      "Abc\n",
      "xyz\n",
      "123\n",
      "Abc\n",
      "456\n",
      "PQR\n",
      "Arshad\n",
      "new\n"
     ]
    }
   ],
   "source": [
    "for i in names:\n",
    "    print(i)"
   ]
  },
  {
   "cell_type": "code",
   "execution_count": 45,
   "id": "38f45a97-a436-46cc-9cd8-550b566a1451",
   "metadata": {},
   "outputs": [
    {
     "name": "stdout",
     "output_type": "stream",
     "text": [
      "['Abc', 'xyz', '123', 'Abc', 456, 'PQR', 'Arshad', 'new']\n"
     ]
    },
    {
     "name": "stdin",
     "output_type": "stream",
     "text": [
      "Give me a value:  123\n",
      "Give me a value:  PQR\n"
     ]
    },
    {
     "ename": "NameError",
     "evalue": "name 'namews' is not defined",
     "output_type": "error",
     "traceback": [
      "\u001b[1;31m---------------------------------------------------------------------------\u001b[0m",
      "\u001b[1;31mNameError\u001b[0m                                 Traceback (most recent call last)",
      "Cell \u001b[1;32mIn[45], line 8\u001b[0m\n\u001b[0;32m      4\u001b[0m     x \u001b[38;5;241m=\u001b[39m \u001b[38;5;28minput\u001b[39m(\u001b[38;5;124m\"\u001b[39m\u001b[38;5;124mGive me a value: \u001b[39m\u001b[38;5;124m\"\u001b[39m)\n\u001b[0;32m      6\u001b[0m     names\u001b[38;5;241m.\u001b[39mremove(x)\n\u001b[1;32m----> 8\u001b[0m \u001b[38;5;28mprint\u001b[39m(namews)\n",
      "\u001b[1;31mNameError\u001b[0m: name 'namews' is not defined"
     ]
    }
   ],
   "source": [
    "print(names)\n",
    "\n",
    "for i in range(2):\n",
    "    x = input(\"Give me a value: \")\n",
    "    \n",
    "    names.remove(x)\n",
    "\n",
    "print(namews)"
   ]
  },
  {
   "cell_type": "code",
   "execution_count": 2,
   "id": "a94a2d09-1102-4811-9604-6904f6b0ec36",
   "metadata": {},
   "outputs": [
    {
     "name": "stdout",
     "output_type": "stream",
     "text": [
      "['Abc', 'xyz', '123', 'Abc', 456, 'PQR', 'DEF', 'GHI']\n"
     ]
    }
   ],
   "source": [
    "print(names)"
   ]
  },
  {
   "cell_type": "code",
   "execution_count": 19,
   "id": "1c36b54e-c34f-4848-926d-27510ea533b9",
   "metadata": {},
   "outputs": [
    {
     "name": "stdout",
     "output_type": "stream",
     "text": [
      "Abc\n",
      "xyz\n",
      "123\n",
      "Abc\n",
      "456\n",
      "PQR\n",
      "DEF\n",
      "GHI\n"
     ]
    }
   ],
   "source": [
    "# for i in range(7, 2, -1):\n",
    "#     print(names[i])\n",
    "#     print(i)\n",
    "\n",
    "# for i in names[2:7]:\n",
    "#     print(i)\n",
    "\n",
    "for i in names:\n",
    "    print(i)"
   ]
  },
  {
   "cell_type": "code",
   "execution_count": 25,
   "id": "20a8f0a2-251b-4d79-bd02-bc84e1856cd5",
   "metadata": {},
   "outputs": [
    {
     "name": "stdout",
     "output_type": "stream",
     "text": [
      "Abc\n",
      "xyz\n",
      "123\n",
      "Abc\n",
      "456\n",
      "PQR\n"
     ]
    }
   ],
   "source": [
    "# names.pop(-1)\n",
    "for i in range(len(names)):\n",
    "    print(names[i])"
   ]
  },
  {
   "cell_type": "code",
   "execution_count": 31,
   "id": "1e9f5ed2-90e4-4c03-bdae-acc2d41a8169",
   "metadata": {},
   "outputs": [
    {
     "name": "stdout",
     "output_type": "stream",
     "text": [
      "[1, 2, 3, 4, 2, 3, 4]\n"
     ]
    }
   ],
   "source": [
    "lst1 = [1, 2, 3, 4] + [2, 3, 4]\n",
    "\n",
    "# lst = [1, 2, 3] + 4\n",
    "print(lst1)"
   ]
  },
  {
   "cell_type": "code",
   "execution_count": 41,
   "id": "8567b9ee-92a3-4b38-a023-4c5d5a4c98d4",
   "metadata": {},
   "outputs": [
    {
     "name": "stdout",
     "output_type": "stream",
     "text": [
      "{1, 3, 5, 7, 9, 11}\n"
     ]
    }
   ],
   "source": [
    "nums = {1, 3, 5, 7, 9}\n",
    "\n",
    "# for i in nums:\n",
    "#     print(i)\n",
    "\n",
    "nums.add(11)\n",
    "\n",
    "print(nums)"
   ]
  },
  {
   "cell_type": "code",
   "execution_count": 42,
   "id": "ebb4803a-00f7-47a7-a232-957c3046e48b",
   "metadata": {},
   "outputs": [
    {
     "name": "stdout",
     "output_type": "stream",
     "text": [
      "{1, 3, 5, 7, 9}\n"
     ]
    }
   ],
   "source": [
    "nums.remove(11)\n",
    "\n",
    "print(nums)"
   ]
  },
  {
   "cell_type": "code",
   "execution_count": 46,
   "id": "506762fe-dfeb-4839-b80c-a6879ba283dd",
   "metadata": {},
   "outputs": [
    {
     "name": "stdout",
     "output_type": "stream",
     "text": [
      "<class 'set'>\n"
     ]
    }
   ],
   "source": [
    "J = set((2, 4, 6))\n",
    "\n",
    "print(type(J))"
   ]
  },
  {
   "cell_type": "code",
   "execution_count": 51,
   "id": "f6ea61b1-0520-40d5-a569-626fd25c8268",
   "metadata": {},
   "outputs": [
    {
     "name": "stdout",
     "output_type": "stream",
     "text": [
      "[1, 2, 3, 4, 2, 3, 4]\n",
      "{1, 2, 3, 4}\n",
      "7 4\n"
     ]
    }
   ],
   "source": [
    "print(lst1)\n",
    "\n",
    "a = set(lst1)\n",
    "\n",
    "print(a)\n",
    "\n",
    "print(len(lst1), len(a))"
   ]
  },
  {
   "cell_type": "code",
   "execution_count": 73,
   "id": "4adbe362-d68d-49a2-88fa-2254ca6ca256",
   "metadata": {},
   "outputs": [
    {
     "ename": "TypeError",
     "evalue": "'tuple' object does not support item assignment",
     "output_type": "error",
     "traceback": [
      "\u001b[1;31m---------------------------------------------------------------------------\u001b[0m",
      "\u001b[1;31mTypeError\u001b[0m                                 Traceback (most recent call last)",
      "Cell \u001b[1;32mIn[73], line 3\u001b[0m\n\u001b[0;32m      1\u001b[0m tup \u001b[38;5;241m=\u001b[39m (\u001b[38;5;124m\"\u001b[39m\u001b[38;5;124mabc\u001b[39m\u001b[38;5;124m\"\u001b[39m, \u001b[38;5;124m\"\u001b[39m\u001b[38;5;124m123\u001b[39m\u001b[38;5;124m\"\u001b[39m, \u001b[38;5;124m\"\u001b[39m\u001b[38;5;124mxyz\u001b[39m\u001b[38;5;124m\"\u001b[39m, \u001b[38;5;124m\"\u001b[39m\u001b[38;5;124m456\u001b[39m\u001b[38;5;124m\"\u001b[39m, \u001b[38;5;241m789\u001b[39m) \u001b[38;5;241m+\u001b[39m (\u001b[38;5;241m2\u001b[39m, \u001b[38;5;241m6\u001b[39m)\n\u001b[1;32m----> 3\u001b[0m tup[\u001b[38;5;241m2\u001b[39m] \u001b[38;5;241m=\u001b[39m \u001b[38;5;124m\"\u001b[39m\u001b[38;5;124myrt\u001b[39m\u001b[38;5;124m\"\u001b[39m\n\u001b[0;32m      5\u001b[0m \u001b[38;5;28mprint\u001b[39m(tup[\u001b[38;5;241m2\u001b[39m])\n",
      "\u001b[1;31mTypeError\u001b[0m: 'tuple' object does not support item assignment"
     ]
    }
   ],
   "source": [
    "tup = (\"abc\", \"123\", \"xyz\", \"456\", 789) + (2, 6)\n",
    "\n",
    "tup[2] = \"yrt\"\n",
    "\n",
    "print(tup[2])"
   ]
  },
  {
   "cell_type": "code",
   "execution_count": 1,
   "id": "141bffc5-21b7-4d44-82ee-fe0bde423eed",
   "metadata": {},
   "outputs": [
    {
     "name": "stdout",
     "output_type": "stream",
     "text": [
      "<class 'tuple'>\n"
     ]
    }
   ],
   "source": [
    "x = (3,)\n",
    "\n",
    "print(type(x))"
   ]
  },
  {
   "cell_type": "code",
   "execution_count": 5,
   "id": "3a10d4df-7151-44ef-96fe-b8e8d86c4ff7",
   "metadata": {},
   "outputs": [
    {
     "name": "stdout",
     "output_type": "stream",
     "text": [
      "['Aamir', 'Muneeb', 'Anas']\n"
     ]
    }
   ],
   "source": [
    "a = [\"Aamir\", \"Muneeb\", \"Anas\"]\n",
    "\n",
    "print(a)"
   ]
  },
  {
   "cell_type": "code",
   "execution_count": 19,
   "id": "f631b9bb-ae3c-47da-ab06-1587ec4c89ae",
   "metadata": {},
   "outputs": [
    {
     "data": {
      "text/plain": [
       "['Fahter', 12, 1564]"
      ]
     },
     "execution_count": 19,
     "metadata": {},
     "output_type": "execute_result"
    }
   ],
   "source": [
    "b = {\"Aamir\":[\"Fahter\", 12, 1564], \"Muneeb\": \"xyz\", \"Anas\":\"jkl\"}\n",
    "\n",
    "b[\"Aamir\"]"
   ]
  },
  {
   "cell_type": "code",
   "execution_count": 43,
   "id": "dda549b9-dc6c-4b57-a210-8ec7ab0efa22",
   "metadata": {},
   "outputs": [
    {
     "name": "stdout",
     "output_type": "stream",
     "text": [
      "{'name': 'John', 'age': 36, 'country': 'Norway'}\n",
      "{'name': 'John', 'age': 36, 'country': 'Norway', 'Education': 'P.Hd', 'Job': 'Analyst'}\n"
     ]
    }
   ],
   "source": [
    "t = dict(name = \"John\", age = 36, country = \"Norway\")\n",
    "print(t)\n",
    "\n",
    "t[\"Education\"] = \"P.Hd\"\n",
    "\n",
    "t.update({\"Job\":\"Analyst\"})\n",
    "print(t)"
   ]
  },
  {
   "cell_type": "code",
   "execution_count": 55,
   "id": "e850d6e6-4731-43ed-9c83-862e59ffdfea",
   "metadata": {},
   "outputs": [
    {
     "name": "stdout",
     "output_type": "stream",
     "text": [
      "These are values dict_values(['John', 36, 'Norway', 'P.Hd', 'Analyst'])\n",
      "These are Keys dict_keys(['name', 'age', 'country', 'Education', 'Job'])\n",
      "This is entire dictionary dict_items([('name', 'John'), ('age', 36), ('country', 'Norway'), ('Education', 'P.Hd'), ('Job', 'Analyst')])\n"
     ]
    },
    {
     "data": {
      "text/plain": [
       "dict_items([('name', 'John'), ('age', 36), ('country', 'Norway'), ('Education', 'P.Hd'), ('Job', 'Analyst')])"
      ]
     },
     "execution_count": 55,
     "metadata": {},
     "output_type": "execute_result"
    }
   ],
   "source": [
    "print(\"These are values\", t.values())\n",
    "print(\"These are Keys\", t.keys())\n",
    "\n",
    "print(\"This is entire dictionary\", t.items())\n",
    "\n",
    "t.items()"
   ]
  },
  {
   "cell_type": "code",
   "execution_count": 71,
   "id": "b937e985-6b60-4658-9515-5ccf83d546e4",
   "metadata": {},
   "outputs": [
    {
     "name": "stdout",
     "output_type": "stream",
     "text": [
      "name John\n",
      "age 36\n",
      "country Norway\n",
      "Education P.Hd\n",
      "Job Analyst\n"
     ]
    }
   ],
   "source": [
    "#t.items()\n",
    "\n",
    "for x, y in t.items():\n",
    "    print(x, y)"
   ]
  },
  {
   "cell_type": "code",
   "execution_count": 13,
   "id": "c10a3457-3a2d-4600-b0b5-6f1826f7142f",
   "metadata": {},
   "outputs": [
    {
     "name": "stdout",
     "output_type": "stream",
     "text": [
      "This month is 9, and date of today is 26, and time is (10, 45)\n"
     ]
    }
   ],
   "source": [
    "import datetime as d\n",
    "\n",
    "x = d.datetime.now()\n",
    "\n",
    "print(f\"This month is {x.month}, and date of today is {x.day}, and time is {x.hour, x.minute}\")"
   ]
  },
  {
   "cell_type": "code",
   "execution_count": 25,
   "id": "0853526b-6911-49d8-b585-29e74079eece",
   "metadata": {},
   "outputs": [
    {
     "name": "stdout",
     "output_type": "stream",
     "text": [
      "Sep\n"
     ]
    }
   ],
   "source": [
    "print(x.strftime(\"%b\"))"
   ]
  },
  {
   "cell_type": "code",
   "execution_count": 33,
   "id": "9a391999-525f-4933-ac5a-5f7d4bee0af3",
   "metadata": {},
   "outputs": [
    {
     "name": "stdout",
     "output_type": "stream",
     "text": [
      "5.0\n",
      "3.141592653589793\n"
     ]
    }
   ],
   "source": [
    "import math as m\n",
    "\n",
    "a = 25\n",
    "\n",
    "print(m.sqrt(a))\n",
    "print(m.pi)"
   ]
  }
 ],
 "metadata": {
  "kernelspec": {
   "display_name": "Python 3 (ipykernel)",
   "language": "python",
   "name": "python3"
  },
  "language_info": {
   "codemirror_mode": {
    "name": "ipython",
    "version": 3
   },
   "file_extension": ".py",
   "mimetype": "text/x-python",
   "name": "python",
   "nbconvert_exporter": "python",
   "pygments_lexer": "ipython3",
   "version": "3.12.4"
  }
 },
 "nbformat": 4,
 "nbformat_minor": 5
}
